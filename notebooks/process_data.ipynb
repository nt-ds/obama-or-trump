{
 "cells": [
  {
   "cell_type": "markdown",
   "metadata": {},
   "source": [
    "### Import libraries"
   ]
  },
  {
   "cell_type": "code",
   "execution_count": 1,
   "metadata": {},
   "outputs": [],
   "source": [
    "import pandas as pd"
   ]
  },
  {
   "cell_type": "markdown",
   "metadata": {},
   "source": [
    "Change directories to get src code"
   ]
  },
  {
   "cell_type": "code",
   "execution_count": 2,
   "metadata": {},
   "outputs": [
    {
     "name": "stdout",
     "output_type": "stream",
     "text": [
      "C:\\Users\\15713\\Desktop\\DS Projects\\Obama or Trump\\obama-or-trump\\src\n"
     ]
    }
   ],
   "source": [
    "%cd C:\\Users\\15713\\Desktop\\DS Projects\\Obama or Trump\\obama-or-trump\\src"
   ]
  },
  {
   "cell_type": "code",
   "execution_count": 3,
   "metadata": {},
   "outputs": [],
   "source": [
    "import clean_tweets"
   ]
  },
  {
   "cell_type": "markdown",
   "metadata": {},
   "source": [
    "### Process data"
   ]
  },
  {
   "cell_type": "markdown",
   "metadata": {},
   "source": [
    "Set pandas' display option to see full tweets"
   ]
  },
  {
   "cell_type": "code",
   "execution_count": 4,
   "metadata": {},
   "outputs": [],
   "source": [
    "pd.set_option(\"display.max_colwidth\", -1)"
   ]
  },
  {
   "cell_type": "markdown",
   "metadata": {},
   "source": [
    "Load President Obama and President Trump's tweet data"
   ]
  },
  {
   "cell_type": "code",
   "execution_count": 5,
   "metadata": {},
   "outputs": [],
   "source": [
    "obama = pd.read_csv(\"C:\\\\Users\\\\15713\\\\Desktop\\\\DS Projects\\\\Obama or Trump\\\\obama-or-trump\\\\data\\\\BarackObama_tweets.csv\")\n",
    "obama.drop([\"Unnamed: 0\"], axis=1, inplace=True)\n",
    "trump = pd.read_csv(\"C:\\\\Users\\\\15713\\\\Desktop\\\\DS Projects\\\\Obama or Trump\\\\obama-or-trump\\\\data\\\\realDonaldTrump_tweets.csv\")\n",
    "trump.drop([\"Unnamed: 0\"], axis=1, inplace=True)"
   ]
  },
  {
   "cell_type": "markdown",
   "metadata": {},
   "source": [
    "Combine the data"
   ]
  },
  {
   "cell_type": "code",
   "execution_count": 6,
   "metadata": {},
   "outputs": [
    {
     "data": {
      "text/html": [
       "<div>\n",
       "<style scoped>\n",
       "    .dataframe tbody tr th:only-of-type {\n",
       "        vertical-align: middle;\n",
       "    }\n",
       "\n",
       "    .dataframe tbody tr th {\n",
       "        vertical-align: top;\n",
       "    }\n",
       "\n",
       "    .dataframe thead th {\n",
       "        text-align: right;\n",
       "    }\n",
       "</style>\n",
       "<table border=\"1\" class=\"dataframe\">\n",
       "  <thead>\n",
       "    <tr style=\"text-align: right;\">\n",
       "      <th></th>\n",
       "      <th>tweet</th>\n",
       "      <th>author</th>\n",
       "    </tr>\n",
       "  </thead>\n",
       "  <tbody>\n",
       "    <tr>\n",
       "      <td>0</td>\n",
       "      <td>If we want life to approach anything like normal anytime soon, we need a comprehensive testing program. It’s not going to be cheap, but it will ultimately pay off many times over in saved lives, saved businesses, and saved jobs.</td>\n",
       "      <td>BarackObama</td>\n",
       "    </tr>\n",
       "    <tr>\n",
       "      <td>1</td>\n",
       "      <td>While we continue to wait for a coherent national plan to navigate this pandemic, states like Massachusetts are beginning to adopt their own public health plans to combat this virus––before it's too late.</td>\n",
       "      <td>BarackObama</td>\n",
       "    </tr>\n",
       "    <tr>\n",
       "      <td>2</td>\n",
       "      <td>We've all had to adapt to cope with a pandemic. Climate change will force far harsher changes on our kids. All of us should follow the young people who've led the efforts to protect our planet for generations, and demand more of our leaders at every level.</td>\n",
       "      <td>BarackObama</td>\n",
       "    </tr>\n",
       "    <tr>\n",
       "      <td>3</td>\n",
       "      <td>Parents, you deserve a break – Michelle’s got storytime handled every Monday. She’s one of the best, I promise. (And I confess it makes me a little nostalgic.)</td>\n",
       "      <td>BarackObama</td>\n",
       "    </tr>\n",
       "    <tr>\n",
       "      <td>4</td>\n",
       "      <td>Proud of the leaders in my hometown of Chicago who are showing us what it means to be there for each other––as neighbors and as citizens.</td>\n",
       "      <td>BarackObama</td>\n",
       "    </tr>\n",
       "    <tr>\n",
       "      <td>...</td>\n",
       "      <td>...</td>\n",
       "      <td>...</td>\n",
       "    </tr>\n",
       "    <tr>\n",
       "      <td>14127</td>\n",
       "      <td>Tonight, it was my great honor to host a Congressional Medal of Honor Society Reception at the @WhiteHouse!</td>\n",
       "      <td>realDonaldTrump</td>\n",
       "    </tr>\n",
       "    <tr>\n",
       "      <td>14128</td>\n",
       "      <td>#HurricaneFlorence https://www.fema.gov/hurricane-florence</td>\n",
       "      <td>realDonaldTrump</td>\n",
       "    </tr>\n",
       "    <tr>\n",
       "      <td>14129</td>\n",
       "      <td>It is imperative that everyone follow local evacuation orders. This storm is extremely dangerous. Be SAFE! #HurricaneFlorence https://www.ready.gov/hurricanes</td>\n",
       "      <td>realDonaldTrump</td>\n",
       "    </tr>\n",
       "    <tr>\n",
       "      <td>14130</td>\n",
       "      <td>“I can say, as it relates to the Senate Intelligence Committee Investigation, that we have NO hard evidence of Collusion.” Richard Burr (R-NC) Senate Intelligence Committee, Chairman</td>\n",
       "      <td>realDonaldTrump</td>\n",
       "    </tr>\n",
       "    <tr>\n",
       "      <td>14131</td>\n",
       "      <td>Hurricane Florence may now be dipping a bit south and hitting a portion of the Great State of Georgia. Be ready, be prepared!</td>\n",
       "      <td>realDonaldTrump</td>\n",
       "    </tr>\n",
       "  </tbody>\n",
       "</table>\n",
       "<p>14132 rows × 2 columns</p>\n",
       "</div>"
      ],
      "text/plain": [
       "                                                                                                                                                                                                                                                                  tweet  \\\n",
       "0      If we want life to approach anything like normal anytime soon, we need a comprehensive testing program. It’s not going to be cheap, but it will ultimately pay off many times over in saved lives, saved businesses, and saved jobs.                               \n",
       "1      While we continue to wait for a coherent national plan to navigate this pandemic, states like Massachusetts are beginning to adopt their own public health plans to combat this virus––before it's too late.                                                       \n",
       "2      We've all had to adapt to cope with a pandemic. Climate change will force far harsher changes on our kids. All of us should follow the young people who've led the efforts to protect our planet for generations, and demand more of our leaders at every level.   \n",
       "3      Parents, you deserve a break – Michelle’s got storytime handled every Monday. She’s one of the best, I promise. (And I confess it makes me a little nostalgic.)                                                                                                    \n",
       "4      Proud of the leaders in my hometown of Chicago who are showing us what it means to be there for each other––as neighbors and as citizens.                                                                                                                          \n",
       "...                                                                                                                                          ...                                                                                                                          \n",
       "14127  Tonight, it was my great honor to host a Congressional Medal of Honor Society Reception at the @WhiteHouse!                                                                                                                                                        \n",
       "14128  #HurricaneFlorence https://www.fema.gov/hurricane-florence                                                                                                                                                                                                         \n",
       "14129  It is imperative that everyone follow local evacuation orders. This storm is extremely dangerous. Be SAFE! #HurricaneFlorence https://www.ready.gov/hurricanes                                                                                                     \n",
       "14130  “I can say, as it relates to the Senate Intelligence Committee Investigation, that we have NO hard evidence of Collusion.” Richard Burr (R-NC) Senate Intelligence Committee, Chairman                                                                             \n",
       "14131  Hurricane Florence may now be dipping a bit south and hitting a portion of the Great State of Georgia. Be ready, be prepared!                                                                                                                                      \n",
       "\n",
       "                author  \n",
       "0      BarackObama      \n",
       "1      BarackObama      \n",
       "2      BarackObama      \n",
       "3      BarackObama      \n",
       "4      BarackObama      \n",
       "...            ...      \n",
       "14127  realDonaldTrump  \n",
       "14128  realDonaldTrump  \n",
       "14129  realDonaldTrump  \n",
       "14130  realDonaldTrump  \n",
       "14131  realDonaldTrump  \n",
       "\n",
       "[14132 rows x 2 columns]"
      ]
     },
     "execution_count": 6,
     "metadata": {},
     "output_type": "execute_result"
    }
   ],
   "source": [
    "tweets = pd.concat([obama, trump], ignore_index=True)\n",
    "tweets"
   ]
  },
  {
   "cell_type": "markdown",
   "metadata": {},
   "source": [
    "Process the data"
   ]
  },
  {
   "cell_type": "code",
   "execution_count": 7,
   "metadata": {
    "scrolled": false
   },
   "outputs": [
    {
     "data": {
      "text/html": [
       "<div>\n",
       "<style scoped>\n",
       "    .dataframe tbody tr th:only-of-type {\n",
       "        vertical-align: middle;\n",
       "    }\n",
       "\n",
       "    .dataframe tbody tr th {\n",
       "        vertical-align: top;\n",
       "    }\n",
       "\n",
       "    .dataframe thead th {\n",
       "        text-align: right;\n",
       "    }\n",
       "</style>\n",
       "<table border=\"1\" class=\"dataframe\">\n",
       "  <thead>\n",
       "    <tr style=\"text-align: right;\">\n",
       "      <th></th>\n",
       "      <th>tweet</th>\n",
       "      <th>author</th>\n",
       "      <th>tweet_norm</th>\n",
       "      <th>tweet_stemmed</th>\n",
       "      <th>tweet_lemmed</th>\n",
       "    </tr>\n",
       "  </thead>\n",
       "  <tbody>\n",
       "    <tr>\n",
       "      <td>0</td>\n",
       "      <td>If we want life to approach anything like normal anytime soon, we need a comprehensive testing program. It’s not going to be cheap, but it will ultimately pay off many times over in saved lives, saved businesses, and saved jobs.</td>\n",
       "      <td>BarackObama</td>\n",
       "      <td>want life approach anything like normal anytime soon need comprehensive testing program going cheap ultimately pay many times saved lives saved businesses saved jobs</td>\n",
       "      <td>want life approach anyth like normal anytim soon need comprehens test program go cheap ultim pay mani time save live save busi save job</td>\n",
       "      <td>want life approach anything like normal anytime soon need comprehensive testing program going cheap ultimately pay many time saved life saved business saved job</td>\n",
       "    </tr>\n",
       "    <tr>\n",
       "      <td>1</td>\n",
       "      <td>While we continue to wait for a coherent national plan to navigate this pandemic, states like Massachusetts are beginning to adopt their own public health plans to combat this virus––before it's too late.</td>\n",
       "      <td>BarackObama</td>\n",
       "      <td>continue wait coherent national plan navigate pandemic states like massachusetts beginning adopt public health plans combat virus late</td>\n",
       "      <td>continu wait coher nation plan navig pandem state like massachusett begin adopt public health plan combat viru late</td>\n",
       "      <td>continue wait coherent national plan navigate pandemic state like massachusetts beginning adopt public health plan combat virus late</td>\n",
       "    </tr>\n",
       "    <tr>\n",
       "      <td>2</td>\n",
       "      <td>We've all had to adapt to cope with a pandemic. Climate change will force far harsher changes on our kids. All of us should follow the young people who've led the efforts to protect our planet for generations, and demand more of our leaders at every level.</td>\n",
       "      <td>BarackObama</td>\n",
       "      <td>adapt cope pandemic climate change force far harsher changes kids us follow young people led efforts protect planet generations demand leaders every level</td>\n",
       "      <td>adapt cope pandem climat chang forc far harsher chang kid us follow young peopl led effort protect planet gener demand leader everi level</td>\n",
       "      <td>adapt cope pandemic climate change force far harsher change kid u follow young people led effort protect planet generation demand leader every level</td>\n",
       "    </tr>\n",
       "    <tr>\n",
       "      <td>3</td>\n",
       "      <td>Parents, you deserve a break – Michelle’s got storytime handled every Monday. She’s one of the best, I promise. (And I confess it makes me a little nostalgic.)</td>\n",
       "      <td>BarackObama</td>\n",
       "      <td>parents deserve break got storytime handled every monday one best promise confess makes little nostalgic</td>\n",
       "      <td>parent deserv break got storytim handl everi monday one best promis confess make littl nostalg</td>\n",
       "      <td>parent deserve break got storytime handled every monday one best promise confess make little nostalgic</td>\n",
       "    </tr>\n",
       "    <tr>\n",
       "      <td>4</td>\n",
       "      <td>Proud of the leaders in my hometown of Chicago who are showing us what it means to be there for each other––as neighbors and as citizens.</td>\n",
       "      <td>BarackObama</td>\n",
       "      <td>proud leaders hometown chicago showing us means neighbors citizens</td>\n",
       "      <td>proud leader hometown chicago show us mean neighbor citizen</td>\n",
       "      <td>proud leader hometown chicago showing u mean neighbor citizen</td>\n",
       "    </tr>\n",
       "    <tr>\n",
       "      <td>...</td>\n",
       "      <td>...</td>\n",
       "      <td>...</td>\n",
       "      <td>...</td>\n",
       "      <td>...</td>\n",
       "      <td>...</td>\n",
       "    </tr>\n",
       "    <tr>\n",
       "      <td>13555</td>\n",
       "      <td>Tonight, it was my great honor to host a Congressional Medal of Honor Society Reception at the @WhiteHouse!</td>\n",
       "      <td>realDonaldTrump</td>\n",
       "      <td>tonight great honor host congressional medal honor society reception</td>\n",
       "      <td>tonight great honor host congression medal honor societi recept</td>\n",
       "      <td>tonight great honor host congressional medal honor society reception</td>\n",
       "    </tr>\n",
       "    <tr>\n",
       "      <td>13556</td>\n",
       "      <td>#HurricaneFlorence https://www.fema.gov/hurricane-florence</td>\n",
       "      <td>realDonaldTrump</td>\n",
       "      <td></td>\n",
       "      <td></td>\n",
       "      <td></td>\n",
       "    </tr>\n",
       "    <tr>\n",
       "      <td>13557</td>\n",
       "      <td>It is imperative that everyone follow local evacuation orders. This storm is extremely dangerous. Be SAFE! #HurricaneFlorence https://www.ready.gov/hurricanes</td>\n",
       "      <td>realDonaldTrump</td>\n",
       "      <td>imperative everyone follow local evacuation orders storm extremely dangerous safe</td>\n",
       "      <td>imper everyon follow local evacu order storm extrem danger safe</td>\n",
       "      <td>imperative everyone follow local evacuation order storm extremely dangerous safe</td>\n",
       "    </tr>\n",
       "    <tr>\n",
       "      <td>13558</td>\n",
       "      <td>“I can say, as it relates to the Senate Intelligence Committee Investigation, that we have NO hard evidence of Collusion.” Richard Burr (R-NC) Senate Intelligence Committee, Chairman</td>\n",
       "      <td>realDonaldTrump</td>\n",
       "      <td>say relates senate intelligence committee investigation hard evidence collusion richard burr r-nc senate intelligence committee chairman</td>\n",
       "      <td>say relat senat intellig committe investig hard evid collus richard burr r-nc senat intellig committe chairman</td>\n",
       "      <td>say relates senate intelligence committee investigation hard evidence collusion richard burr r-nc senate intelligence committee chairman</td>\n",
       "    </tr>\n",
       "    <tr>\n",
       "      <td>13559</td>\n",
       "      <td>Hurricane Florence may now be dipping a bit south and hitting a portion of the Great State of Georgia. Be ready, be prepared!</td>\n",
       "      <td>realDonaldTrump</td>\n",
       "      <td>hurricane florence may dipping bit south hitting portion great state georgia ready prepared</td>\n",
       "      <td>hurrican florenc may dip bit south hit portion great state georgia readi prepar</td>\n",
       "      <td>hurricane florence may dipping bit south hitting portion great state georgia ready prepared</td>\n",
       "    </tr>\n",
       "  </tbody>\n",
       "</table>\n",
       "<p>13560 rows × 5 columns</p>\n",
       "</div>"
      ],
      "text/plain": [
       "                                                                                                                                                                                                                                                                  tweet  \\\n",
       "0      If we want life to approach anything like normal anytime soon, we need a comprehensive testing program. It’s not going to be cheap, but it will ultimately pay off many times over in saved lives, saved businesses, and saved jobs.                               \n",
       "1      While we continue to wait for a coherent national plan to navigate this pandemic, states like Massachusetts are beginning to adopt their own public health plans to combat this virus––before it's too late.                                                       \n",
       "2      We've all had to adapt to cope with a pandemic. Climate change will force far harsher changes on our kids. All of us should follow the young people who've led the efforts to protect our planet for generations, and demand more of our leaders at every level.   \n",
       "3      Parents, you deserve a break – Michelle’s got storytime handled every Monday. She’s one of the best, I promise. (And I confess it makes me a little nostalgic.)                                                                                                    \n",
       "4      Proud of the leaders in my hometown of Chicago who are showing us what it means to be there for each other––as neighbors and as citizens.                                                                                                                          \n",
       "...                                                                                                                                          ...                                                                                                                          \n",
       "13555  Tonight, it was my great honor to host a Congressional Medal of Honor Society Reception at the @WhiteHouse!                                                                                                                                                        \n",
       "13556  #HurricaneFlorence https://www.fema.gov/hurricane-florence                                                                                                                                                                                                         \n",
       "13557  It is imperative that everyone follow local evacuation orders. This storm is extremely dangerous. Be SAFE! #HurricaneFlorence https://www.ready.gov/hurricanes                                                                                                     \n",
       "13558  “I can say, as it relates to the Senate Intelligence Committee Investigation, that we have NO hard evidence of Collusion.” Richard Burr (R-NC) Senate Intelligence Committee, Chairman                                                                             \n",
       "13559  Hurricane Florence may now be dipping a bit south and hitting a portion of the Great State of Georgia. Be ready, be prepared!                                                                                                                                      \n",
       "\n",
       "                author  \\\n",
       "0      BarackObama       \n",
       "1      BarackObama       \n",
       "2      BarackObama       \n",
       "3      BarackObama       \n",
       "4      BarackObama       \n",
       "...            ...       \n",
       "13555  realDonaldTrump   \n",
       "13556  realDonaldTrump   \n",
       "13557  realDonaldTrump   \n",
       "13558  realDonaldTrump   \n",
       "13559  realDonaldTrump   \n",
       "\n",
       "                                                                                                                                                                  tweet_norm  \\\n",
       "0      want life approach anything like normal anytime soon need comprehensive testing program going cheap ultimately pay many times saved lives saved businesses saved jobs   \n",
       "1      continue wait coherent national plan navigate pandemic states like massachusetts beginning adopt public health plans combat virus late                                  \n",
       "2      adapt cope pandemic climate change force far harsher changes kids us follow young people led efforts protect planet generations demand leaders every level              \n",
       "3      parents deserve break got storytime handled every monday one best promise confess makes little nostalgic                                                                \n",
       "4      proud leaders hometown chicago showing us means neighbors citizens                                                                                                      \n",
       "...                                                                   ...                                                                                                      \n",
       "13555  tonight great honor host congressional medal honor society reception                                                                                                    \n",
       "13556                                                                                                                                                                          \n",
       "13557  imperative everyone follow local evacuation orders storm extremely dangerous safe                                                                                       \n",
       "13558  say relates senate intelligence committee investigation hard evidence collusion richard burr r-nc senate intelligence committee chairman                                \n",
       "13559  hurricane florence may dipping bit south hitting portion great state georgia ready prepared                                                                             \n",
       "\n",
       "                                                                                                                                   tweet_stemmed  \\\n",
       "0      want life approach anyth like normal anytim soon need comprehens test program go cheap ultim pay mani time save live save busi save job     \n",
       "1      continu wait coher nation plan navig pandem state like massachusett begin adopt public health plan combat viru late                         \n",
       "2      adapt cope pandem climat chang forc far harsher chang kid us follow young peopl led effort protect planet gener demand leader everi level   \n",
       "3      parent deserv break got storytim handl everi monday one best promis confess make littl nostalg                                              \n",
       "4      proud leader hometown chicago show us mean neighbor citizen                                                                                 \n",
       "...                                                            ...                                                                                 \n",
       "13555  tonight great honor host congression medal honor societi recept                                                                             \n",
       "13556                                                                                                                                              \n",
       "13557  imper everyon follow local evacu order storm extrem danger safe                                                                             \n",
       "13558  say relat senat intellig committe investig hard evid collus richard burr r-nc senat intellig committe chairman                              \n",
       "13559  hurrican florenc may dip bit south hit portion great state georgia readi prepar                                                             \n",
       "\n",
       "                                                                                                                                                           tweet_lemmed  \n",
       "0      want life approach anything like normal anytime soon need comprehensive testing program going cheap ultimately pay many time saved life saved business saved job  \n",
       "1      continue wait coherent national plan navigate pandemic state like massachusetts beginning adopt public health plan combat virus late                              \n",
       "2      adapt cope pandemic climate change force far harsher change kid u follow young people led effort protect planet generation demand leader every level              \n",
       "3      parent deserve break got storytime handled every monday one best promise confess make little nostalgic                                                            \n",
       "4      proud leader hometown chicago showing u mean neighbor citizen                                                                                                     \n",
       "...                                                              ...                                                                                                     \n",
       "13555  tonight great honor host congressional medal honor society reception                                                                                              \n",
       "13556                                                                                                                                                                    \n",
       "13557  imperative everyone follow local evacuation order storm extremely dangerous safe                                                                                  \n",
       "13558  say relates senate intelligence committee investigation hard evidence collusion richard burr r-nc senate intelligence committee chairman                          \n",
       "13559  hurricane florence may dipping bit south hitting portion great state georgia ready prepared                                                                       \n",
       "\n",
       "[13560 rows x 5 columns]"
      ]
     },
     "execution_count": 7,
     "metadata": {},
     "output_type": "execute_result"
    }
   ],
   "source": [
    "new_tweets = clean_tweets.clean_tweets(tweets)\n",
    "new_tweets"
   ]
  },
  {
   "cell_type": "markdown",
   "metadata": {},
   "source": [
    "### Save data"
   ]
  },
  {
   "cell_type": "markdown",
   "metadata": {},
   "source": [
    "Change directories to save the processed data"
   ]
  },
  {
   "cell_type": "code",
   "execution_count": 8,
   "metadata": {},
   "outputs": [
    {
     "name": "stdout",
     "output_type": "stream",
     "text": [
      "C:\\Users\\15713\\Desktop\\DS Projects\\Obama or Trump\\obama-or-trump\\data\n"
     ]
    }
   ],
   "source": [
    "%cd C:\\Users\\15713\\Desktop\\DS Projects\\Obama or Trump\\obama-or-trump\\data"
   ]
  },
  {
   "cell_type": "code",
   "execution_count": 9,
   "metadata": {},
   "outputs": [],
   "source": [
    "new_tweets.to_csv(\"C:\\\\Users\\\\15713\\\\Desktop\\\\DS Projects\\\\Obama or Trump\\\\obama-or-trump\\\\data\\\\processed_tweets.csv\")"
   ]
  }
 ],
 "metadata": {
  "kernelspec": {
   "display_name": "Python 3",
   "language": "python",
   "name": "python3"
  },
  "language_info": {
   "codemirror_mode": {
    "name": "ipython",
    "version": 3
   },
   "file_extension": ".py",
   "mimetype": "text/x-python",
   "name": "python",
   "nbconvert_exporter": "python",
   "pygments_lexer": "ipython3",
   "version": "3.7.4"
  }
 },
 "nbformat": 4,
 "nbformat_minor": 2
}
