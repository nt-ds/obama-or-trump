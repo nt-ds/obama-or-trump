{
 "cells": [
  {
   "cell_type": "markdown",
   "metadata": {},
   "source": [
    "### Import libraries"
   ]
  },
  {
   "cell_type": "code",
   "execution_count": 1,
   "metadata": {},
   "outputs": [],
   "source": [
    "import warnings\n",
    "\n",
    "import pandas as pd\n",
    "\n",
    "# Ignore warnings\n",
    "warnings.filterwarnings(\"ignore\")"
   ]
  },
  {
   "cell_type": "markdown",
   "metadata": {},
   "source": [
    "Change directories to get src code"
   ]
  },
  {
   "cell_type": "code",
   "execution_count": 2,
   "metadata": {},
   "outputs": [
    {
     "name": "stdout",
     "output_type": "stream",
     "text": [
      "C:\\Users\\15713\\Desktop\\DS Projects\\Obama or Trump\\obama-or-trump\\src\n"
     ]
    }
   ],
   "source": [
    "%cd C:\\Users\\15713\\Desktop\\DS Projects\\Obama or Trump\\obama-or-trump\\src"
   ]
  },
  {
   "cell_type": "code",
   "execution_count": 3,
   "metadata": {},
   "outputs": [],
   "source": [
    "import model"
   ]
  },
  {
   "cell_type": "markdown",
   "metadata": {},
   "source": [
    "### Build models using training data and cross-validation"
   ]
  },
  {
   "cell_type": "markdown",
   "metadata": {},
   "source": [
    "Load processed tweet data"
   ]
  },
  {
   "cell_type": "code",
   "execution_count": 4,
   "metadata": {},
   "outputs": [],
   "source": [
    "df = pd.read_csv(\"C:\\\\Users\\\\15713\\\\Desktop\\\\DS Projects\\\\Obama or Trump\\\\obama-or-trump\\\\data\\\\processed_tweets.csv\")"
   ]
  },
  {
   "cell_type": "markdown",
   "metadata": {},
   "source": [
    "Train test split the data"
   ]
  },
  {
   "cell_type": "code",
   "execution_count": 5,
   "metadata": {},
   "outputs": [],
   "source": [
    "train, test = model.get_train_test(df)"
   ]
  },
  {
   "cell_type": "markdown",
   "metadata": {},
   "source": [
    "#### Build models for the normal tweet data"
   ]
  },
  {
   "cell_type": "code",
   "execution_count": 6,
   "metadata": {},
   "outputs": [
    {
     "name": "stdout",
     "output_type": "stream",
     "text": [
      "Best estimator:\n",
      "GaussianNB(priors=None, var_smoothing=1e-09)\n",
      "\n",
      "Best parameters:\n",
      "{}\n",
      "\n",
      "Best score:\n",
      "0.8382494595441317\n",
      "\n",
      "Grid scores on training set:\n",
      "0.838 (+/-0.016) for {}\n",
      "\n"
     ]
    }
   ],
   "source": [
    "norm_naive_bayes = model.build_model(train.tweet_norm, train.author, \"norm\", \"naive_bayes\")"
   ]
  },
  {
   "cell_type": "code",
   "execution_count": 7,
   "metadata": {},
   "outputs": [
    {
     "name": "stdout",
     "output_type": "stream",
     "text": [
      "Best estimator:\n",
      "LogisticRegression(C=10.0, class_weight=None, dual=False, fit_intercept=True,\n",
      "                   intercept_scaling=1, l1_ratio=None, max_iter=100,\n",
      "                   multi_class='auto', n_jobs=-1, penalty='l2',\n",
      "                   random_state=2374, solver='lbfgs', tol=0.0001, verbose=0,\n",
      "                   warm_start=True)\n",
      "\n",
      "Best parameters:\n",
      "{'C': 10.0, 'solver': 'lbfgs', 'warm_start': True}\n",
      "\n",
      "Best score:\n",
      "0.9864610551332564\n",
      "\n",
      "Grid scores on training set:\n",
      "0.970 (+/-0.009) for {'C': 0.01, 'solver': 'saga', 'warm_start': True}\n",
      "0.970 (+/-0.009) for {'C': 0.01, 'solver': 'saga', 'warm_start': False}\n",
      "0.970 (+/-0.009) for {'C': 0.01, 'solver': 'sag', 'warm_start': True}\n",
      "0.970 (+/-0.009) for {'C': 0.01, 'solver': 'sag', 'warm_start': False}\n",
      "0.970 (+/-0.009) for {'C': 0.01, 'solver': 'lbfgs', 'warm_start': True}\n",
      "0.970 (+/-0.009) for {'C': 0.01, 'solver': 'lbfgs', 'warm_start': False}\n",
      "0.976 (+/-0.008) for {'C': 0.1, 'solver': 'saga', 'warm_start': True}\n",
      "0.976 (+/-0.008) for {'C': 0.1, 'solver': 'saga', 'warm_start': False}\n",
      "0.976 (+/-0.008) for {'C': 0.1, 'solver': 'sag', 'warm_start': True}\n",
      "0.976 (+/-0.008) for {'C': 0.1, 'solver': 'sag', 'warm_start': False}\n",
      "0.976 (+/-0.008) for {'C': 0.1, 'solver': 'lbfgs', 'warm_start': True}\n",
      "0.976 (+/-0.008) for {'C': 0.1, 'solver': 'lbfgs', 'warm_start': False}\n",
      "0.984 (+/-0.007) for {'C': 1.0, 'solver': 'saga', 'warm_start': True}\n",
      "0.984 (+/-0.007) for {'C': 1.0, 'solver': 'saga', 'warm_start': False}\n",
      "0.984 (+/-0.007) for {'C': 1.0, 'solver': 'sag', 'warm_start': True}\n",
      "0.984 (+/-0.007) for {'C': 1.0, 'solver': 'sag', 'warm_start': False}\n",
      "0.984 (+/-0.007) for {'C': 1.0, 'solver': 'lbfgs', 'warm_start': True}\n",
      "0.984 (+/-0.007) for {'C': 1.0, 'solver': 'lbfgs', 'warm_start': False}\n",
      "0.986 (+/-0.006) for {'C': 10.0, 'solver': 'saga', 'warm_start': True}\n",
      "0.986 (+/-0.006) for {'C': 10.0, 'solver': 'saga', 'warm_start': False}\n",
      "0.986 (+/-0.006) for {'C': 10.0, 'solver': 'sag', 'warm_start': True}\n",
      "0.986 (+/-0.006) for {'C': 10.0, 'solver': 'sag', 'warm_start': False}\n",
      "0.986 (+/-0.006) for {'C': 10.0, 'solver': 'lbfgs', 'warm_start': True}\n",
      "0.986 (+/-0.006) for {'C': 10.0, 'solver': 'lbfgs', 'warm_start': False}\n",
      "\n"
     ]
    }
   ],
   "source": [
    "norm_logistic = model.build_model(train.tweet_norm, train.author, \"norm\", \"logistic\")"
   ]
  },
  {
   "cell_type": "code",
   "execution_count": 8,
   "metadata": {
    "scrolled": false
   },
   "outputs": [
    {
     "name": "stdout",
     "output_type": "stream",
     "text": [
      "Best estimator:\n",
      "SVC(C=10.0, break_ties=False, cache_size=200, class_weight=None, coef0=0.0,\n",
      "    decision_function_shape='ovr', degree=3, gamma='scale', kernel='rbf',\n",
      "    max_iter=-1, probability=False, random_state=2374, shrinking=True,\n",
      "    tol=0.001, verbose=False)\n",
      "\n",
      "Best parameters:\n",
      "{'C': 10.0, 'degree': 3, 'gamma': 'scale', 'kernel': 'rbf'}\n",
      "\n",
      "Best score:\n",
      "0.98755547434597\n",
      "\n",
      "Grid scores on training set:\n",
      "0.972 (+/-0.009) for {'C': 0.01, 'degree': 3, 'gamma': 'scale', 'kernel': 'linear'}\n",
      "0.978 (+/-0.011) for {'C': 0.01, 'degree': 3, 'gamma': 'scale', 'kernel': 'poly'}\n",
      "0.974 (+/-0.009) for {'C': 0.01, 'degree': 3, 'gamma': 'scale', 'kernel': 'rbf'}\n",
      "0.971 (+/-0.009) for {'C': 0.01, 'degree': 3, 'gamma': 'scale', 'kernel': 'sigmoid'}\n",
      "0.972 (+/-0.009) for {'C': 0.01, 'degree': 3, 'gamma': 'auto', 'kernel': 'linear'}\n",
      "0.977 (+/-0.011) for {'C': 0.01, 'degree': 3, 'gamma': 'auto', 'kernel': 'poly'}\n",
      "0.971 (+/-0.009) for {'C': 0.01, 'degree': 3, 'gamma': 'auto', 'kernel': 'rbf'}\n",
      "0.971 (+/-0.009) for {'C': 0.01, 'degree': 3, 'gamma': 'auto', 'kernel': 'sigmoid'}\n",
      "0.972 (+/-0.009) for {'C': 0.01, 'degree': 4, 'gamma': 'scale', 'kernel': 'linear'}\n",
      "0.972 (+/-0.012) for {'C': 0.01, 'degree': 4, 'gamma': 'scale', 'kernel': 'poly'}\n",
      "0.974 (+/-0.009) for {'C': 0.01, 'degree': 4, 'gamma': 'scale', 'kernel': 'rbf'}\n",
      "0.971 (+/-0.009) for {'C': 0.01, 'degree': 4, 'gamma': 'scale', 'kernel': 'sigmoid'}\n",
      "0.972 (+/-0.009) for {'C': 0.01, 'degree': 4, 'gamma': 'auto', 'kernel': 'linear'}\n",
      "0.500 (+/-0.000) for {'C': 0.01, 'degree': 4, 'gamma': 'auto', 'kernel': 'poly'}\n",
      "0.971 (+/-0.009) for {'C': 0.01, 'degree': 4, 'gamma': 'auto', 'kernel': 'rbf'}\n",
      "0.971 (+/-0.009) for {'C': 0.01, 'degree': 4, 'gamma': 'auto', 'kernel': 'sigmoid'}\n",
      "0.972 (+/-0.009) for {'C': 0.01, 'degree': 5, 'gamma': 'scale', 'kernel': 'linear'}\n",
      "0.965 (+/-0.013) for {'C': 0.01, 'degree': 5, 'gamma': 'scale', 'kernel': 'poly'}\n",
      "0.974 (+/-0.009) for {'C': 0.01, 'degree': 5, 'gamma': 'scale', 'kernel': 'rbf'}\n",
      "0.971 (+/-0.009) for {'C': 0.01, 'degree': 5, 'gamma': 'scale', 'kernel': 'sigmoid'}\n",
      "0.972 (+/-0.009) for {'C': 0.01, 'degree': 5, 'gamma': 'auto', 'kernel': 'linear'}\n",
      "0.500 (+/-0.000) for {'C': 0.01, 'degree': 5, 'gamma': 'auto', 'kernel': 'poly'}\n",
      "0.971 (+/-0.009) for {'C': 0.01, 'degree': 5, 'gamma': 'auto', 'kernel': 'rbf'}\n",
      "0.971 (+/-0.009) for {'C': 0.01, 'degree': 5, 'gamma': 'auto', 'kernel': 'sigmoid'}\n",
      "0.981 (+/-0.008) for {'C': 0.1, 'degree': 3, 'gamma': 'scale', 'kernel': 'linear'}\n",
      "0.978 (+/-0.011) for {'C': 0.1, 'degree': 3, 'gamma': 'scale', 'kernel': 'poly'}\n",
      "0.978 (+/-0.009) for {'C': 0.1, 'degree': 3, 'gamma': 'scale', 'kernel': 'rbf'}\n",
      "0.981 (+/-0.008) for {'C': 0.1, 'degree': 3, 'gamma': 'scale', 'kernel': 'sigmoid'}\n",
      "0.981 (+/-0.008) for {'C': 0.1, 'degree': 3, 'gamma': 'auto', 'kernel': 'linear'}\n",
      "0.977 (+/-0.011) for {'C': 0.1, 'degree': 3, 'gamma': 'auto', 'kernel': 'poly'}\n",
      "0.971 (+/-0.009) for {'C': 0.1, 'degree': 3, 'gamma': 'auto', 'kernel': 'rbf'}\n",
      "0.971 (+/-0.009) for {'C': 0.1, 'degree': 3, 'gamma': 'auto', 'kernel': 'sigmoid'}\n",
      "0.981 (+/-0.008) for {'C': 0.1, 'degree': 4, 'gamma': 'scale', 'kernel': 'linear'}\n",
      "0.972 (+/-0.012) for {'C': 0.1, 'degree': 4, 'gamma': 'scale', 'kernel': 'poly'}\n",
      "0.978 (+/-0.009) for {'C': 0.1, 'degree': 4, 'gamma': 'scale', 'kernel': 'rbf'}\n",
      "0.981 (+/-0.008) for {'C': 0.1, 'degree': 4, 'gamma': 'scale', 'kernel': 'sigmoid'}\n",
      "0.981 (+/-0.008) for {'C': 0.1, 'degree': 4, 'gamma': 'auto', 'kernel': 'linear'}\n",
      "0.506 (+/-0.003) for {'C': 0.1, 'degree': 4, 'gamma': 'auto', 'kernel': 'poly'}\n",
      "0.971 (+/-0.009) for {'C': 0.1, 'degree': 4, 'gamma': 'auto', 'kernel': 'rbf'}\n",
      "0.971 (+/-0.009) for {'C': 0.1, 'degree': 4, 'gamma': 'auto', 'kernel': 'sigmoid'}\n",
      "0.981 (+/-0.008) for {'C': 0.1, 'degree': 5, 'gamma': 'scale', 'kernel': 'linear'}\n",
      "0.965 (+/-0.013) for {'C': 0.1, 'degree': 5, 'gamma': 'scale', 'kernel': 'poly'}\n",
      "0.978 (+/-0.009) for {'C': 0.1, 'degree': 5, 'gamma': 'scale', 'kernel': 'rbf'}\n",
      "0.981 (+/-0.008) for {'C': 0.1, 'degree': 5, 'gamma': 'scale', 'kernel': 'sigmoid'}\n",
      "0.981 (+/-0.008) for {'C': 0.1, 'degree': 5, 'gamma': 'auto', 'kernel': 'linear'}\n",
      "0.500 (+/-0.000) for {'C': 0.1, 'degree': 5, 'gamma': 'auto', 'kernel': 'poly'}\n",
      "0.971 (+/-0.009) for {'C': 0.1, 'degree': 5, 'gamma': 'auto', 'kernel': 'rbf'}\n",
      "0.971 (+/-0.009) for {'C': 0.1, 'degree': 5, 'gamma': 'auto', 'kernel': 'sigmoid'}\n",
      "0.986 (+/-0.007) for {'C': 1.0, 'degree': 3, 'gamma': 'scale', 'kernel': 'linear'}\n",
      "0.982 (+/-0.007) for {'C': 1.0, 'degree': 3, 'gamma': 'scale', 'kernel': 'poly'}\n",
      "0.987 (+/-0.006) for {'C': 1.0, 'degree': 3, 'gamma': 'scale', 'kernel': 'rbf'}\n",
      "0.985 (+/-0.007) for {'C': 1.0, 'degree': 3, 'gamma': 'scale', 'kernel': 'sigmoid'}\n",
      "0.986 (+/-0.007) for {'C': 1.0, 'degree': 3, 'gamma': 'auto', 'kernel': 'linear'}\n",
      "0.978 (+/-0.011) for {'C': 1.0, 'degree': 3, 'gamma': 'auto', 'kernel': 'poly'}\n",
      "0.971 (+/-0.009) for {'C': 1.0, 'degree': 3, 'gamma': 'auto', 'kernel': 'rbf'}\n",
      "0.971 (+/-0.009) for {'C': 1.0, 'degree': 3, 'gamma': 'auto', 'kernel': 'sigmoid'}\n",
      "0.986 (+/-0.007) for {'C': 1.0, 'degree': 4, 'gamma': 'scale', 'kernel': 'linear'}\n",
      "0.975 (+/-0.008) for {'C': 1.0, 'degree': 4, 'gamma': 'scale', 'kernel': 'poly'}\n",
      "0.987 (+/-0.006) for {'C': 1.0, 'degree': 4, 'gamma': 'scale', 'kernel': 'rbf'}\n",
      "0.985 (+/-0.007) for {'C': 1.0, 'degree': 4, 'gamma': 'scale', 'kernel': 'sigmoid'}\n",
      "0.986 (+/-0.007) for {'C': 1.0, 'degree': 4, 'gamma': 'auto', 'kernel': 'linear'}\n",
      "0.620 (+/-0.065) for {'C': 1.0, 'degree': 4, 'gamma': 'auto', 'kernel': 'poly'}\n",
      "0.971 (+/-0.009) for {'C': 1.0, 'degree': 4, 'gamma': 'auto', 'kernel': 'rbf'}\n",
      "0.971 (+/-0.009) for {'C': 1.0, 'degree': 4, 'gamma': 'auto', 'kernel': 'sigmoid'}\n",
      "0.986 (+/-0.007) for {'C': 1.0, 'degree': 5, 'gamma': 'scale', 'kernel': 'linear'}\n",
      "0.966 (+/-0.010) for {'C': 1.0, 'degree': 5, 'gamma': 'scale', 'kernel': 'poly'}\n",
      "0.987 (+/-0.006) for {'C': 1.0, 'degree': 5, 'gamma': 'scale', 'kernel': 'rbf'}\n",
      "0.985 (+/-0.007) for {'C': 1.0, 'degree': 5, 'gamma': 'scale', 'kernel': 'sigmoid'}\n",
      "0.986 (+/-0.007) for {'C': 1.0, 'degree': 5, 'gamma': 'auto', 'kernel': 'linear'}\n",
      "0.500 (+/-0.000) for {'C': 1.0, 'degree': 5, 'gamma': 'auto', 'kernel': 'poly'}\n",
      "0.971 (+/-0.009) for {'C': 1.0, 'degree': 5, 'gamma': 'auto', 'kernel': 'rbf'}\n",
      "0.971 (+/-0.009) for {'C': 1.0, 'degree': 5, 'gamma': 'auto', 'kernel': 'sigmoid'}\n",
      "0.980 (+/-0.008) for {'C': 10.0, 'degree': 3, 'gamma': 'scale', 'kernel': 'linear'}\n",
      "0.981 (+/-0.006) for {'C': 10.0, 'degree': 3, 'gamma': 'scale', 'kernel': 'poly'}\n",
      "0.988 (+/-0.005) for {'C': 10.0, 'degree': 3, 'gamma': 'scale', 'kernel': 'rbf'}\n",
      "0.973 (+/-0.008) for {'C': 10.0, 'degree': 3, 'gamma': 'scale', 'kernel': 'sigmoid'}\n",
      "0.980 (+/-0.008) for {'C': 10.0, 'degree': 3, 'gamma': 'auto', 'kernel': 'linear'}\n",
      "0.977 (+/-0.011) for {'C': 10.0, 'degree': 3, 'gamma': 'auto', 'kernel': 'poly'}\n",
      "0.971 (+/-0.009) for {'C': 10.0, 'degree': 3, 'gamma': 'auto', 'kernel': 'rbf'}\n",
      "0.971 (+/-0.009) for {'C': 10.0, 'degree': 3, 'gamma': 'auto', 'kernel': 'sigmoid'}\n",
      "0.980 (+/-0.008) for {'C': 10.0, 'degree': 4, 'gamma': 'scale', 'kernel': 'linear'}\n",
      "0.974 (+/-0.008) for {'C': 10.0, 'degree': 4, 'gamma': 'scale', 'kernel': 'poly'}\n",
      "0.988 (+/-0.005) for {'C': 10.0, 'degree': 4, 'gamma': 'scale', 'kernel': 'rbf'}\n",
      "0.973 (+/-0.008) for {'C': 10.0, 'degree': 4, 'gamma': 'scale', 'kernel': 'sigmoid'}\n",
      "0.980 (+/-0.008) for {'C': 10.0, 'degree': 4, 'gamma': 'auto', 'kernel': 'linear'}\n",
      "0.918 (+/-0.011) for {'C': 10.0, 'degree': 4, 'gamma': 'auto', 'kernel': 'poly'}\n",
      "0.971 (+/-0.009) for {'C': 10.0, 'degree': 4, 'gamma': 'auto', 'kernel': 'rbf'}\n",
      "0.971 (+/-0.009) for {'C': 10.0, 'degree': 4, 'gamma': 'auto', 'kernel': 'sigmoid'}\n",
      "0.980 (+/-0.008) for {'C': 10.0, 'degree': 5, 'gamma': 'scale', 'kernel': 'linear'}\n",
      "0.966 (+/-0.011) for {'C': 10.0, 'degree': 5, 'gamma': 'scale', 'kernel': 'poly'}\n",
      "0.988 (+/-0.005) for {'C': 10.0, 'degree': 5, 'gamma': 'scale', 'kernel': 'rbf'}\n",
      "0.973 (+/-0.008) for {'C': 10.0, 'degree': 5, 'gamma': 'scale', 'kernel': 'sigmoid'}\n",
      "0.980 (+/-0.008) for {'C': 10.0, 'degree': 5, 'gamma': 'auto', 'kernel': 'linear'}\n",
      "0.500 (+/-0.000) for {'C': 10.0, 'degree': 5, 'gamma': 'auto', 'kernel': 'poly'}\n",
      "0.971 (+/-0.009) for {'C': 10.0, 'degree': 5, 'gamma': 'auto', 'kernel': 'rbf'}\n",
      "0.971 (+/-0.009) for {'C': 10.0, 'degree': 5, 'gamma': 'auto', 'kernel': 'sigmoid'}\n",
      "\n"
     ]
    }
   ],
   "source": [
    "norm_svm = model.build_model(train.tweet_norm, train.author, \"norm\", \"svm\")"
   ]
  },
  {
   "cell_type": "markdown",
   "metadata": {},
   "source": [
    "The SVM model was the best."
   ]
  },
  {
   "cell_type": "markdown",
   "metadata": {},
   "source": [
    "#### Build models for the stemmed tweet data"
   ]
  },
  {
   "cell_type": "code",
   "execution_count": 9,
   "metadata": {
    "scrolled": false
   },
   "outputs": [
    {
     "name": "stdout",
     "output_type": "stream",
     "text": [
      "Best estimator:\n",
      "GaussianNB(priors=None, var_smoothing=1e-09)\n",
      "\n",
      "Best parameters:\n",
      "{}\n",
      "\n",
      "Best score:\n",
      "0.8320332407780079\n",
      "\n",
      "Grid scores on training set:\n",
      "0.832 (+/-0.016) for {}\n",
      "\n"
     ]
    }
   ],
   "source": [
    "stemmed_naive_bayes = model.build_model(train.tweet_stemmed, train.author, \"stemmed\", \"naive_bayes\")"
   ]
  },
  {
   "cell_type": "code",
   "execution_count": 10,
   "metadata": {},
   "outputs": [
    {
     "name": "stdout",
     "output_type": "stream",
     "text": [
      "Best estimator:\n",
      "LogisticRegression(C=10.0, class_weight=None, dual=False, fit_intercept=True,\n",
      "                   intercept_scaling=1, l1_ratio=None, max_iter=100,\n",
      "                   multi_class='auto', n_jobs=-1, penalty='l2',\n",
      "                   random_state=2374, solver='sag', tol=0.0001, verbose=0,\n",
      "                   warm_start=True)\n",
      "\n",
      "Best parameters:\n",
      "{'C': 10.0, 'solver': 'sag', 'warm_start': True}\n",
      "\n",
      "Best score:\n",
      "0.9858544672536741\n",
      "\n",
      "Grid scores on training set:\n",
      "0.968 (+/-0.012) for {'C': 0.01, 'solver': 'saga', 'warm_start': True}\n",
      "0.968 (+/-0.012) for {'C': 0.01, 'solver': 'saga', 'warm_start': False}\n",
      "0.968 (+/-0.012) for {'C': 0.01, 'solver': 'sag', 'warm_start': True}\n",
      "0.968 (+/-0.012) for {'C': 0.01, 'solver': 'sag', 'warm_start': False}\n",
      "0.968 (+/-0.012) for {'C': 0.01, 'solver': 'lbfgs', 'warm_start': True}\n",
      "0.968 (+/-0.012) for {'C': 0.01, 'solver': 'lbfgs', 'warm_start': False}\n",
      "0.975 (+/-0.010) for {'C': 0.1, 'solver': 'saga', 'warm_start': True}\n",
      "0.975 (+/-0.010) for {'C': 0.1, 'solver': 'saga', 'warm_start': False}\n",
      "0.975 (+/-0.010) for {'C': 0.1, 'solver': 'sag', 'warm_start': True}\n",
      "0.975 (+/-0.010) for {'C': 0.1, 'solver': 'sag', 'warm_start': False}\n",
      "0.975 (+/-0.010) for {'C': 0.1, 'solver': 'lbfgs', 'warm_start': True}\n",
      "0.975 (+/-0.010) for {'C': 0.1, 'solver': 'lbfgs', 'warm_start': False}\n",
      "0.983 (+/-0.007) for {'C': 1.0, 'solver': 'saga', 'warm_start': True}\n",
      "0.983 (+/-0.007) for {'C': 1.0, 'solver': 'saga', 'warm_start': False}\n",
      "0.983 (+/-0.007) for {'C': 1.0, 'solver': 'sag', 'warm_start': True}\n",
      "0.983 (+/-0.007) for {'C': 1.0, 'solver': 'sag', 'warm_start': False}\n",
      "0.983 (+/-0.007) for {'C': 1.0, 'solver': 'lbfgs', 'warm_start': True}\n",
      "0.983 (+/-0.007) for {'C': 1.0, 'solver': 'lbfgs', 'warm_start': False}\n",
      "0.986 (+/-0.005) for {'C': 10.0, 'solver': 'saga', 'warm_start': True}\n",
      "0.986 (+/-0.005) for {'C': 10.0, 'solver': 'saga', 'warm_start': False}\n",
      "0.986 (+/-0.005) for {'C': 10.0, 'solver': 'sag', 'warm_start': True}\n",
      "0.986 (+/-0.005) for {'C': 10.0, 'solver': 'sag', 'warm_start': False}\n",
      "0.986 (+/-0.005) for {'C': 10.0, 'solver': 'lbfgs', 'warm_start': True}\n",
      "0.986 (+/-0.005) for {'C': 10.0, 'solver': 'lbfgs', 'warm_start': False}\n",
      "\n"
     ]
    }
   ],
   "source": [
    "stemmed_logistic = model.build_model(train.tweet_stemmed, train.author, \"stemmed\", \"logistic\")"
   ]
  },
  {
   "cell_type": "code",
   "execution_count": 11,
   "metadata": {
    "scrolled": false
   },
   "outputs": [
    {
     "name": "stdout",
     "output_type": "stream",
     "text": [
      "Best estimator:\n",
      "SVC(C=10.0, break_ties=False, cache_size=200, class_weight=None, coef0=0.0,\n",
      "    decision_function_shape='ovr', degree=3, gamma='scale', kernel='rbf',\n",
      "    max_iter=-1, probability=False, random_state=2374, shrinking=True,\n",
      "    tol=0.001, verbose=False)\n",
      "\n",
      "Best parameters:\n",
      "{'C': 10.0, 'degree': 3, 'gamma': 'scale', 'kernel': 'rbf'}\n",
      "\n",
      "Best score:\n",
      "0.9875306079469619\n",
      "\n",
      "Grid scores on training set:\n",
      "0.969 (+/-0.012) for {'C': 0.01, 'degree': 3, 'gamma': 'scale', 'kernel': 'linear'}\n",
      "0.976 (+/-0.011) for {'C': 0.01, 'degree': 3, 'gamma': 'scale', 'kernel': 'poly'}\n",
      "0.971 (+/-0.011) for {'C': 0.01, 'degree': 3, 'gamma': 'scale', 'kernel': 'rbf'}\n",
      "0.968 (+/-0.012) for {'C': 0.01, 'degree': 3, 'gamma': 'scale', 'kernel': 'sigmoid'}\n",
      "0.969 (+/-0.012) for {'C': 0.01, 'degree': 3, 'gamma': 'auto', 'kernel': 'linear'}\n",
      "0.976 (+/-0.011) for {'C': 0.01, 'degree': 3, 'gamma': 'auto', 'kernel': 'poly'}\n",
      "0.969 (+/-0.012) for {'C': 0.01, 'degree': 3, 'gamma': 'auto', 'kernel': 'rbf'}\n",
      "0.969 (+/-0.012) for {'C': 0.01, 'degree': 3, 'gamma': 'auto', 'kernel': 'sigmoid'}\n",
      "0.969 (+/-0.012) for {'C': 0.01, 'degree': 4, 'gamma': 'scale', 'kernel': 'linear'}\n",
      "0.972 (+/-0.010) for {'C': 0.01, 'degree': 4, 'gamma': 'scale', 'kernel': 'poly'}\n",
      "0.971 (+/-0.011) for {'C': 0.01, 'degree': 4, 'gamma': 'scale', 'kernel': 'rbf'}\n",
      "0.968 (+/-0.012) for {'C': 0.01, 'degree': 4, 'gamma': 'scale', 'kernel': 'sigmoid'}\n",
      "0.969 (+/-0.012) for {'C': 0.01, 'degree': 4, 'gamma': 'auto', 'kernel': 'linear'}\n",
      "0.504 (+/-0.002) for {'C': 0.01, 'degree': 4, 'gamma': 'auto', 'kernel': 'poly'}\n",
      "0.969 (+/-0.012) for {'C': 0.01, 'degree': 4, 'gamma': 'auto', 'kernel': 'rbf'}\n",
      "0.969 (+/-0.012) for {'C': 0.01, 'degree': 4, 'gamma': 'auto', 'kernel': 'sigmoid'}\n",
      "0.969 (+/-0.012) for {'C': 0.01, 'degree': 5, 'gamma': 'scale', 'kernel': 'linear'}\n",
      "0.966 (+/-0.011) for {'C': 0.01, 'degree': 5, 'gamma': 'scale', 'kernel': 'poly'}\n",
      "0.971 (+/-0.011) for {'C': 0.01, 'degree': 5, 'gamma': 'scale', 'kernel': 'rbf'}\n",
      "0.968 (+/-0.012) for {'C': 0.01, 'degree': 5, 'gamma': 'scale', 'kernel': 'sigmoid'}\n",
      "0.969 (+/-0.012) for {'C': 0.01, 'degree': 5, 'gamma': 'auto', 'kernel': 'linear'}\n",
      "0.500 (+/-0.000) for {'C': 0.01, 'degree': 5, 'gamma': 'auto', 'kernel': 'poly'}\n",
      "0.969 (+/-0.012) for {'C': 0.01, 'degree': 5, 'gamma': 'auto', 'kernel': 'rbf'}\n",
      "0.969 (+/-0.012) for {'C': 0.01, 'degree': 5, 'gamma': 'auto', 'kernel': 'sigmoid'}\n",
      "0.980 (+/-0.008) for {'C': 0.1, 'degree': 3, 'gamma': 'scale', 'kernel': 'linear'}\n",
      "0.978 (+/-0.010) for {'C': 0.1, 'degree': 3, 'gamma': 'scale', 'kernel': 'poly'}\n",
      "0.977 (+/-0.010) for {'C': 0.1, 'degree': 3, 'gamma': 'scale', 'kernel': 'rbf'}\n",
      "0.979 (+/-0.008) for {'C': 0.1, 'degree': 3, 'gamma': 'scale', 'kernel': 'sigmoid'}\n",
      "0.980 (+/-0.008) for {'C': 0.1, 'degree': 3, 'gamma': 'auto', 'kernel': 'linear'}\n",
      "0.976 (+/-0.011) for {'C': 0.1, 'degree': 3, 'gamma': 'auto', 'kernel': 'poly'}\n",
      "0.969 (+/-0.012) for {'C': 0.1, 'degree': 3, 'gamma': 'auto', 'kernel': 'rbf'}\n",
      "0.969 (+/-0.012) for {'C': 0.1, 'degree': 3, 'gamma': 'auto', 'kernel': 'sigmoid'}\n",
      "0.980 (+/-0.008) for {'C': 0.1, 'degree': 4, 'gamma': 'scale', 'kernel': 'linear'}\n",
      "0.973 (+/-0.010) for {'C': 0.1, 'degree': 4, 'gamma': 'scale', 'kernel': 'poly'}\n",
      "0.977 (+/-0.010) for {'C': 0.1, 'degree': 4, 'gamma': 'scale', 'kernel': 'rbf'}\n",
      "0.979 (+/-0.008) for {'C': 0.1, 'degree': 4, 'gamma': 'scale', 'kernel': 'sigmoid'}\n",
      "0.980 (+/-0.008) for {'C': 0.1, 'degree': 4, 'gamma': 'auto', 'kernel': 'linear'}\n",
      "0.537 (+/-0.011) for {'C': 0.1, 'degree': 4, 'gamma': 'auto', 'kernel': 'poly'}\n",
      "0.969 (+/-0.012) for {'C': 0.1, 'degree': 4, 'gamma': 'auto', 'kernel': 'rbf'}\n",
      "0.969 (+/-0.012) for {'C': 0.1, 'degree': 4, 'gamma': 'auto', 'kernel': 'sigmoid'}\n",
      "0.980 (+/-0.008) for {'C': 0.1, 'degree': 5, 'gamma': 'scale', 'kernel': 'linear'}\n",
      "0.966 (+/-0.011) for {'C': 0.1, 'degree': 5, 'gamma': 'scale', 'kernel': 'poly'}\n",
      "0.977 (+/-0.010) for {'C': 0.1, 'degree': 5, 'gamma': 'scale', 'kernel': 'rbf'}\n",
      "0.979 (+/-0.008) for {'C': 0.1, 'degree': 5, 'gamma': 'scale', 'kernel': 'sigmoid'}\n",
      "0.980 (+/-0.008) for {'C': 0.1, 'degree': 5, 'gamma': 'auto', 'kernel': 'linear'}\n",
      "0.500 (+/-0.000) for {'C': 0.1, 'degree': 5, 'gamma': 'auto', 'kernel': 'poly'}\n",
      "0.969 (+/-0.012) for {'C': 0.1, 'degree': 5, 'gamma': 'auto', 'kernel': 'rbf'}\n",
      "0.969 (+/-0.012) for {'C': 0.1, 'degree': 5, 'gamma': 'auto', 'kernel': 'sigmoid'}\n",
      "0.985 (+/-0.006) for {'C': 1.0, 'degree': 3, 'gamma': 'scale', 'kernel': 'linear'}\n",
      "0.983 (+/-0.005) for {'C': 1.0, 'degree': 3, 'gamma': 'scale', 'kernel': 'poly'}\n",
      "0.987 (+/-0.005) for {'C': 1.0, 'degree': 3, 'gamma': 'scale', 'kernel': 'rbf'}\n",
      "0.984 (+/-0.006) for {'C': 1.0, 'degree': 3, 'gamma': 'scale', 'kernel': 'sigmoid'}\n",
      "0.985 (+/-0.006) for {'C': 1.0, 'degree': 3, 'gamma': 'auto', 'kernel': 'linear'}\n",
      "0.976 (+/-0.011) for {'C': 1.0, 'degree': 3, 'gamma': 'auto', 'kernel': 'poly'}\n",
      "0.969 (+/-0.012) for {'C': 1.0, 'degree': 3, 'gamma': 'auto', 'kernel': 'rbf'}\n",
      "0.969 (+/-0.012) for {'C': 1.0, 'degree': 3, 'gamma': 'auto', 'kernel': 'sigmoid'}\n",
      "0.985 (+/-0.006) for {'C': 1.0, 'degree': 4, 'gamma': 'scale', 'kernel': 'linear'}\n",
      "0.976 (+/-0.006) for {'C': 1.0, 'degree': 4, 'gamma': 'scale', 'kernel': 'poly'}\n",
      "0.987 (+/-0.005) for {'C': 1.0, 'degree': 4, 'gamma': 'scale', 'kernel': 'rbf'}\n",
      "0.984 (+/-0.006) for {'C': 1.0, 'degree': 4, 'gamma': 'scale', 'kernel': 'sigmoid'}\n",
      "0.985 (+/-0.006) for {'C': 1.0, 'degree': 4, 'gamma': 'auto', 'kernel': 'linear'}\n",
      "0.886 (+/-0.010) for {'C': 1.0, 'degree': 4, 'gamma': 'auto', 'kernel': 'poly'}\n",
      "0.969 (+/-0.012) for {'C': 1.0, 'degree': 4, 'gamma': 'auto', 'kernel': 'rbf'}\n",
      "0.969 (+/-0.012) for {'C': 1.0, 'degree': 4, 'gamma': 'auto', 'kernel': 'sigmoid'}\n",
      "0.985 (+/-0.006) for {'C': 1.0, 'degree': 5, 'gamma': 'scale', 'kernel': 'linear'}\n",
      "0.968 (+/-0.007) for {'C': 1.0, 'degree': 5, 'gamma': 'scale', 'kernel': 'poly'}\n",
      "0.987 (+/-0.005) for {'C': 1.0, 'degree': 5, 'gamma': 'scale', 'kernel': 'rbf'}\n",
      "0.984 (+/-0.006) for {'C': 1.0, 'degree': 5, 'gamma': 'scale', 'kernel': 'sigmoid'}\n",
      "0.985 (+/-0.006) for {'C': 1.0, 'degree': 5, 'gamma': 'auto', 'kernel': 'linear'}\n",
      "0.500 (+/-0.000) for {'C': 1.0, 'degree': 5, 'gamma': 'auto', 'kernel': 'poly'}\n",
      "0.969 (+/-0.012) for {'C': 1.0, 'degree': 5, 'gamma': 'auto', 'kernel': 'rbf'}\n",
      "0.969 (+/-0.012) for {'C': 1.0, 'degree': 5, 'gamma': 'auto', 'kernel': 'sigmoid'}\n",
      "0.980 (+/-0.007) for {'C': 10.0, 'degree': 3, 'gamma': 'scale', 'kernel': 'linear'}\n",
      "0.982 (+/-0.004) for {'C': 10.0, 'degree': 3, 'gamma': 'scale', 'kernel': 'poly'}\n",
      "0.988 (+/-0.005) for {'C': 10.0, 'degree': 3, 'gamma': 'scale', 'kernel': 'rbf'}\n",
      "0.969 (+/-0.015) for {'C': 10.0, 'degree': 3, 'gamma': 'scale', 'kernel': 'sigmoid'}\n",
      "0.980 (+/-0.007) for {'C': 10.0, 'degree': 3, 'gamma': 'auto', 'kernel': 'linear'}\n",
      "0.976 (+/-0.011) for {'C': 10.0, 'degree': 3, 'gamma': 'auto', 'kernel': 'poly'}\n",
      "0.969 (+/-0.012) for {'C': 10.0, 'degree': 3, 'gamma': 'auto', 'kernel': 'rbf'}\n",
      "0.969 (+/-0.012) for {'C': 10.0, 'degree': 3, 'gamma': 'auto', 'kernel': 'sigmoid'}\n",
      "0.980 (+/-0.007) for {'C': 10.0, 'degree': 4, 'gamma': 'scale', 'kernel': 'linear'}\n",
      "0.975 (+/-0.006) for {'C': 10.0, 'degree': 4, 'gamma': 'scale', 'kernel': 'poly'}\n",
      "0.988 (+/-0.005) for {'C': 10.0, 'degree': 4, 'gamma': 'scale', 'kernel': 'rbf'}\n",
      "0.969 (+/-0.015) for {'C': 10.0, 'degree': 4, 'gamma': 'scale', 'kernel': 'sigmoid'}\n",
      "0.980 (+/-0.007) for {'C': 10.0, 'degree': 4, 'gamma': 'auto', 'kernel': 'linear'}\n",
      "0.970 (+/-0.010) for {'C': 10.0, 'degree': 4, 'gamma': 'auto', 'kernel': 'poly'}\n",
      "0.969 (+/-0.012) for {'C': 10.0, 'degree': 4, 'gamma': 'auto', 'kernel': 'rbf'}\n",
      "0.969 (+/-0.012) for {'C': 10.0, 'degree': 4, 'gamma': 'auto', 'kernel': 'sigmoid'}\n",
      "0.980 (+/-0.007) for {'C': 10.0, 'degree': 5, 'gamma': 'scale', 'kernel': 'linear'}\n",
      "0.968 (+/-0.008) for {'C': 10.0, 'degree': 5, 'gamma': 'scale', 'kernel': 'poly'}\n",
      "0.988 (+/-0.005) for {'C': 10.0, 'degree': 5, 'gamma': 'scale', 'kernel': 'rbf'}\n",
      "0.969 (+/-0.015) for {'C': 10.0, 'degree': 5, 'gamma': 'scale', 'kernel': 'sigmoid'}\n",
      "0.980 (+/-0.007) for {'C': 10.0, 'degree': 5, 'gamma': 'auto', 'kernel': 'linear'}\n",
      "0.500 (+/-0.000) for {'C': 10.0, 'degree': 5, 'gamma': 'auto', 'kernel': 'poly'}\n",
      "0.969 (+/-0.012) for {'C': 10.0, 'degree': 5, 'gamma': 'auto', 'kernel': 'rbf'}\n",
      "0.969 (+/-0.012) for {'C': 10.0, 'degree': 5, 'gamma': 'auto', 'kernel': 'sigmoid'}\n",
      "\n"
     ]
    }
   ],
   "source": [
    "stemmed_svm = model.build_model(train.tweet_stemmed, train.author, \"stemmed\", \"svm\")"
   ]
  },
  {
   "cell_type": "markdown",
   "metadata": {},
   "source": [
    "Again, the SVM model was the best."
   ]
  },
  {
   "cell_type": "markdown",
   "metadata": {},
   "source": [
    "#### Build models for the lemmed tweet data"
   ]
  },
  {
   "cell_type": "code",
   "execution_count": 12,
   "metadata": {},
   "outputs": [
    {
     "name": "stdout",
     "output_type": "stream",
     "text": [
      "Best estimator:\n",
      "GaussianNB(priors=None, var_smoothing=1e-09)\n",
      "\n",
      "Best parameters:\n",
      "{}\n",
      "\n",
      "Best score:\n",
      "0.8351500763732126\n",
      "\n",
      "Grid scores on training set:\n",
      "0.835 (+/-0.018) for {}\n",
      "\n"
     ]
    }
   ],
   "source": [
    "lemmed_naive_bayes = model.build_model(train.tweet_lemmed, train.author, \"lemmed\", \"naive_bayes\")"
   ]
  },
  {
   "cell_type": "code",
   "execution_count": 13,
   "metadata": {},
   "outputs": [
    {
     "name": "stdout",
     "output_type": "stream",
     "text": [
      "Best estimator:\n",
      "LogisticRegression(C=10.0, class_weight=None, dual=False, fit_intercept=True,\n",
      "                   intercept_scaling=1, l1_ratio=None, max_iter=100,\n",
      "                   multi_class='auto', n_jobs=-1, penalty='l2',\n",
      "                   random_state=2374, solver='sag', tol=0.0001, verbose=0,\n",
      "                   warm_start=True)\n",
      "\n",
      "Best parameters:\n",
      "{'C': 10.0, 'solver': 'sag', 'warm_start': True}\n",
      "\n",
      "Best score:\n",
      "0.9864435110208636\n",
      "\n",
      "Grid scores on training set:\n",
      "0.970 (+/-0.011) for {'C': 0.01, 'solver': 'saga', 'warm_start': True}\n",
      "0.970 (+/-0.011) for {'C': 0.01, 'solver': 'saga', 'warm_start': False}\n",
      "0.970 (+/-0.011) for {'C': 0.01, 'solver': 'sag', 'warm_start': True}\n",
      "0.970 (+/-0.011) for {'C': 0.01, 'solver': 'sag', 'warm_start': False}\n",
      "0.970 (+/-0.011) for {'C': 0.01, 'solver': 'lbfgs', 'warm_start': True}\n",
      "0.970 (+/-0.011) for {'C': 0.01, 'solver': 'lbfgs', 'warm_start': False}\n",
      "0.976 (+/-0.010) for {'C': 0.1, 'solver': 'saga', 'warm_start': True}\n",
      "0.976 (+/-0.010) for {'C': 0.1, 'solver': 'saga', 'warm_start': False}\n",
      "0.976 (+/-0.010) for {'C': 0.1, 'solver': 'sag', 'warm_start': True}\n",
      "0.976 (+/-0.010) for {'C': 0.1, 'solver': 'sag', 'warm_start': False}\n",
      "0.976 (+/-0.010) for {'C': 0.1, 'solver': 'lbfgs', 'warm_start': True}\n",
      "0.976 (+/-0.010) for {'C': 0.1, 'solver': 'lbfgs', 'warm_start': False}\n",
      "0.984 (+/-0.008) for {'C': 1.0, 'solver': 'saga', 'warm_start': True}\n",
      "0.984 (+/-0.008) for {'C': 1.0, 'solver': 'saga', 'warm_start': False}\n",
      "0.984 (+/-0.008) for {'C': 1.0, 'solver': 'sag', 'warm_start': True}\n",
      "0.984 (+/-0.008) for {'C': 1.0, 'solver': 'sag', 'warm_start': False}\n",
      "0.984 (+/-0.008) for {'C': 1.0, 'solver': 'lbfgs', 'warm_start': True}\n",
      "0.984 (+/-0.008) for {'C': 1.0, 'solver': 'lbfgs', 'warm_start': False}\n",
      "0.986 (+/-0.006) for {'C': 10.0, 'solver': 'saga', 'warm_start': True}\n",
      "0.986 (+/-0.006) for {'C': 10.0, 'solver': 'saga', 'warm_start': False}\n",
      "0.986 (+/-0.006) for {'C': 10.0, 'solver': 'sag', 'warm_start': True}\n",
      "0.986 (+/-0.006) for {'C': 10.0, 'solver': 'sag', 'warm_start': False}\n",
      "0.986 (+/-0.006) for {'C': 10.0, 'solver': 'lbfgs', 'warm_start': True}\n",
      "0.986 (+/-0.006) for {'C': 10.0, 'solver': 'lbfgs', 'warm_start': False}\n",
      "\n"
     ]
    }
   ],
   "source": [
    "lemmed_logistic = model.build_model(train.tweet_lemmed, train.author, \"lemmed\", \"logistic\")"
   ]
  },
  {
   "cell_type": "code",
   "execution_count": 14,
   "metadata": {
    "scrolled": false
   },
   "outputs": [
    {
     "name": "stdout",
     "output_type": "stream",
     "text": [
      "Best estimator:\n",
      "SVC(C=10.0, break_ties=False, cache_size=200, class_weight=None, coef0=0.0,\n",
      "    decision_function_shape='ovr', degree=3, gamma='scale', kernel='rbf',\n",
      "    max_iter=-1, probability=False, random_state=2374, shrinking=True,\n",
      "    tol=0.001, verbose=False)\n",
      "\n",
      "Best parameters:\n",
      "{'C': 10.0, 'degree': 3, 'gamma': 'scale', 'kernel': 'rbf'}\n",
      "\n",
      "Best score:\n",
      "0.9876340486026974\n",
      "\n",
      "Grid scores on training set:\n",
      "0.971 (+/-0.011) for {'C': 0.01, 'degree': 3, 'gamma': 'scale', 'kernel': 'linear'}\n",
      "0.978 (+/-0.012) for {'C': 0.01, 'degree': 3, 'gamma': 'scale', 'kernel': 'poly'}\n",
      "0.974 (+/-0.011) for {'C': 0.01, 'degree': 3, 'gamma': 'scale', 'kernel': 'rbf'}\n",
      "0.971 (+/-0.011) for {'C': 0.01, 'degree': 3, 'gamma': 'scale', 'kernel': 'sigmoid'}\n",
      "0.971 (+/-0.011) for {'C': 0.01, 'degree': 3, 'gamma': 'auto', 'kernel': 'linear'}\n",
      "0.977 (+/-0.012) for {'C': 0.01, 'degree': 3, 'gamma': 'auto', 'kernel': 'poly'}\n",
      "0.971 (+/-0.011) for {'C': 0.01, 'degree': 3, 'gamma': 'auto', 'kernel': 'rbf'}\n",
      "0.971 (+/-0.011) for {'C': 0.01, 'degree': 3, 'gamma': 'auto', 'kernel': 'sigmoid'}\n",
      "0.971 (+/-0.011) for {'C': 0.01, 'degree': 4, 'gamma': 'scale', 'kernel': 'linear'}\n",
      "0.972 (+/-0.010) for {'C': 0.01, 'degree': 4, 'gamma': 'scale', 'kernel': 'poly'}\n",
      "0.974 (+/-0.011) for {'C': 0.01, 'degree': 4, 'gamma': 'scale', 'kernel': 'rbf'}\n",
      "0.971 (+/-0.011) for {'C': 0.01, 'degree': 4, 'gamma': 'scale', 'kernel': 'sigmoid'}\n",
      "0.971 (+/-0.011) for {'C': 0.01, 'degree': 4, 'gamma': 'auto', 'kernel': 'linear'}\n",
      "0.500 (+/-0.000) for {'C': 0.01, 'degree': 4, 'gamma': 'auto', 'kernel': 'poly'}\n",
      "0.971 (+/-0.011) for {'C': 0.01, 'degree': 4, 'gamma': 'auto', 'kernel': 'rbf'}\n",
      "0.971 (+/-0.011) for {'C': 0.01, 'degree': 4, 'gamma': 'auto', 'kernel': 'sigmoid'}\n",
      "0.971 (+/-0.011) for {'C': 0.01, 'degree': 5, 'gamma': 'scale', 'kernel': 'linear'}\n",
      "0.965 (+/-0.012) for {'C': 0.01, 'degree': 5, 'gamma': 'scale', 'kernel': 'poly'}\n",
      "0.974 (+/-0.011) for {'C': 0.01, 'degree': 5, 'gamma': 'scale', 'kernel': 'rbf'}\n",
      "0.971 (+/-0.011) for {'C': 0.01, 'degree': 5, 'gamma': 'scale', 'kernel': 'sigmoid'}\n",
      "0.971 (+/-0.011) for {'C': 0.01, 'degree': 5, 'gamma': 'auto', 'kernel': 'linear'}\n",
      "0.500 (+/-0.000) for {'C': 0.01, 'degree': 5, 'gamma': 'auto', 'kernel': 'poly'}\n",
      "0.971 (+/-0.011) for {'C': 0.01, 'degree': 5, 'gamma': 'auto', 'kernel': 'rbf'}\n",
      "0.971 (+/-0.011) for {'C': 0.01, 'degree': 5, 'gamma': 'auto', 'kernel': 'sigmoid'}\n",
      "0.981 (+/-0.009) for {'C': 0.1, 'degree': 3, 'gamma': 'scale', 'kernel': 'linear'}\n",
      "0.978 (+/-0.011) for {'C': 0.1, 'degree': 3, 'gamma': 'scale', 'kernel': 'poly'}\n",
      "0.978 (+/-0.010) for {'C': 0.1, 'degree': 3, 'gamma': 'scale', 'kernel': 'rbf'}\n",
      "0.981 (+/-0.009) for {'C': 0.1, 'degree': 3, 'gamma': 'scale', 'kernel': 'sigmoid'}\n",
      "0.981 (+/-0.009) for {'C': 0.1, 'degree': 3, 'gamma': 'auto', 'kernel': 'linear'}\n",
      "0.978 (+/-0.012) for {'C': 0.1, 'degree': 3, 'gamma': 'auto', 'kernel': 'poly'}\n",
      "0.971 (+/-0.011) for {'C': 0.1, 'degree': 3, 'gamma': 'auto', 'kernel': 'rbf'}\n",
      "0.971 (+/-0.011) for {'C': 0.1, 'degree': 3, 'gamma': 'auto', 'kernel': 'sigmoid'}\n",
      "0.981 (+/-0.009) for {'C': 0.1, 'degree': 4, 'gamma': 'scale', 'kernel': 'linear'}\n",
      "0.973 (+/-0.010) for {'C': 0.1, 'degree': 4, 'gamma': 'scale', 'kernel': 'poly'}\n",
      "0.978 (+/-0.010) for {'C': 0.1, 'degree': 4, 'gamma': 'scale', 'kernel': 'rbf'}\n",
      "0.981 (+/-0.009) for {'C': 0.1, 'degree': 4, 'gamma': 'scale', 'kernel': 'sigmoid'}\n",
      "0.981 (+/-0.009) for {'C': 0.1, 'degree': 4, 'gamma': 'auto', 'kernel': 'linear'}\n",
      "0.510 (+/-0.004) for {'C': 0.1, 'degree': 4, 'gamma': 'auto', 'kernel': 'poly'}\n",
      "0.971 (+/-0.011) for {'C': 0.1, 'degree': 4, 'gamma': 'auto', 'kernel': 'rbf'}\n",
      "0.971 (+/-0.011) for {'C': 0.1, 'degree': 4, 'gamma': 'auto', 'kernel': 'sigmoid'}\n",
      "0.981 (+/-0.009) for {'C': 0.1, 'degree': 5, 'gamma': 'scale', 'kernel': 'linear'}\n",
      "0.965 (+/-0.012) for {'C': 0.1, 'degree': 5, 'gamma': 'scale', 'kernel': 'poly'}\n",
      "0.978 (+/-0.010) for {'C': 0.1, 'degree': 5, 'gamma': 'scale', 'kernel': 'rbf'}\n",
      "0.981 (+/-0.009) for {'C': 0.1, 'degree': 5, 'gamma': 'scale', 'kernel': 'sigmoid'}\n",
      "0.981 (+/-0.009) for {'C': 0.1, 'degree': 5, 'gamma': 'auto', 'kernel': 'linear'}\n",
      "0.500 (+/-0.000) for {'C': 0.1, 'degree': 5, 'gamma': 'auto', 'kernel': 'poly'}\n",
      "0.971 (+/-0.011) for {'C': 0.1, 'degree': 5, 'gamma': 'auto', 'kernel': 'rbf'}\n",
      "0.971 (+/-0.011) for {'C': 0.1, 'degree': 5, 'gamma': 'auto', 'kernel': 'sigmoid'}\n",
      "0.986 (+/-0.007) for {'C': 1.0, 'degree': 3, 'gamma': 'scale', 'kernel': 'linear'}\n",
      "0.982 (+/-0.007) for {'C': 1.0, 'degree': 3, 'gamma': 'scale', 'kernel': 'poly'}\n",
      "0.987 (+/-0.007) for {'C': 1.0, 'degree': 3, 'gamma': 'scale', 'kernel': 'rbf'}\n",
      "0.985 (+/-0.007) for {'C': 1.0, 'degree': 3, 'gamma': 'scale', 'kernel': 'sigmoid'}\n",
      "0.986 (+/-0.007) for {'C': 1.0, 'degree': 3, 'gamma': 'auto', 'kernel': 'linear'}\n",
      "0.977 (+/-0.011) for {'C': 1.0, 'degree': 3, 'gamma': 'auto', 'kernel': 'poly'}\n",
      "0.971 (+/-0.011) for {'C': 1.0, 'degree': 3, 'gamma': 'auto', 'kernel': 'rbf'}\n",
      "0.971 (+/-0.011) for {'C': 1.0, 'degree': 3, 'gamma': 'auto', 'kernel': 'sigmoid'}\n",
      "0.986 (+/-0.007) for {'C': 1.0, 'degree': 4, 'gamma': 'scale', 'kernel': 'linear'}\n",
      "0.975 (+/-0.007) for {'C': 1.0, 'degree': 4, 'gamma': 'scale', 'kernel': 'poly'}\n",
      "0.987 (+/-0.007) for {'C': 1.0, 'degree': 4, 'gamma': 'scale', 'kernel': 'rbf'}\n",
      "0.985 (+/-0.007) for {'C': 1.0, 'degree': 4, 'gamma': 'scale', 'kernel': 'sigmoid'}\n",
      "0.986 (+/-0.007) for {'C': 1.0, 'degree': 4, 'gamma': 'auto', 'kernel': 'linear'}\n",
      "0.728 (+/-0.019) for {'C': 1.0, 'degree': 4, 'gamma': 'auto', 'kernel': 'poly'}\n",
      "0.971 (+/-0.011) for {'C': 1.0, 'degree': 4, 'gamma': 'auto', 'kernel': 'rbf'}\n",
      "0.971 (+/-0.011) for {'C': 1.0, 'degree': 4, 'gamma': 'auto', 'kernel': 'sigmoid'}\n",
      "0.986 (+/-0.007) for {'C': 1.0, 'degree': 5, 'gamma': 'scale', 'kernel': 'linear'}\n",
      "0.967 (+/-0.010) for {'C': 1.0, 'degree': 5, 'gamma': 'scale', 'kernel': 'poly'}\n",
      "0.987 (+/-0.007) for {'C': 1.0, 'degree': 5, 'gamma': 'scale', 'kernel': 'rbf'}\n",
      "0.985 (+/-0.007) for {'C': 1.0, 'degree': 5, 'gamma': 'scale', 'kernel': 'sigmoid'}\n",
      "0.986 (+/-0.007) for {'C': 1.0, 'degree': 5, 'gamma': 'auto', 'kernel': 'linear'}\n",
      "0.500 (+/-0.000) for {'C': 1.0, 'degree': 5, 'gamma': 'auto', 'kernel': 'poly'}\n",
      "0.971 (+/-0.011) for {'C': 1.0, 'degree': 5, 'gamma': 'auto', 'kernel': 'rbf'}\n",
      "0.971 (+/-0.011) for {'C': 1.0, 'degree': 5, 'gamma': 'auto', 'kernel': 'sigmoid'}\n",
      "0.981 (+/-0.008) for {'C': 10.0, 'degree': 3, 'gamma': 'scale', 'kernel': 'linear'}\n",
      "0.981 (+/-0.006) for {'C': 10.0, 'degree': 3, 'gamma': 'scale', 'kernel': 'poly'}\n",
      "0.988 (+/-0.005) for {'C': 10.0, 'degree': 3, 'gamma': 'scale', 'kernel': 'rbf'}\n",
      "0.973 (+/-0.010) for {'C': 10.0, 'degree': 3, 'gamma': 'scale', 'kernel': 'sigmoid'}\n",
      "0.981 (+/-0.008) for {'C': 10.0, 'degree': 3, 'gamma': 'auto', 'kernel': 'linear'}\n",
      "0.977 (+/-0.011) for {'C': 10.0, 'degree': 3, 'gamma': 'auto', 'kernel': 'poly'}\n",
      "0.971 (+/-0.011) for {'C': 10.0, 'degree': 3, 'gamma': 'auto', 'kernel': 'rbf'}\n",
      "0.971 (+/-0.011) for {'C': 10.0, 'degree': 3, 'gamma': 'auto', 'kernel': 'sigmoid'}\n",
      "0.981 (+/-0.008) for {'C': 10.0, 'degree': 4, 'gamma': 'scale', 'kernel': 'linear'}\n",
      "0.975 (+/-0.007) for {'C': 10.0, 'degree': 4, 'gamma': 'scale', 'kernel': 'poly'}\n",
      "0.988 (+/-0.005) for {'C': 10.0, 'degree': 4, 'gamma': 'scale', 'kernel': 'rbf'}\n",
      "0.973 (+/-0.010) for {'C': 10.0, 'degree': 4, 'gamma': 'scale', 'kernel': 'sigmoid'}\n",
      "0.981 (+/-0.008) for {'C': 10.0, 'degree': 4, 'gamma': 'auto', 'kernel': 'linear'}\n",
      "0.952 (+/-0.009) for {'C': 10.0, 'degree': 4, 'gamma': 'auto', 'kernel': 'poly'}\n",
      "0.971 (+/-0.011) for {'C': 10.0, 'degree': 4, 'gamma': 'auto', 'kernel': 'rbf'}\n",
      "0.971 (+/-0.011) for {'C': 10.0, 'degree': 4, 'gamma': 'auto', 'kernel': 'sigmoid'}\n",
      "0.981 (+/-0.008) for {'C': 10.0, 'degree': 5, 'gamma': 'scale', 'kernel': 'linear'}\n",
      "0.966 (+/-0.011) for {'C': 10.0, 'degree': 5, 'gamma': 'scale', 'kernel': 'poly'}\n",
      "0.988 (+/-0.005) for {'C': 10.0, 'degree': 5, 'gamma': 'scale', 'kernel': 'rbf'}\n",
      "0.973 (+/-0.010) for {'C': 10.0, 'degree': 5, 'gamma': 'scale', 'kernel': 'sigmoid'}\n",
      "0.981 (+/-0.008) for {'C': 10.0, 'degree': 5, 'gamma': 'auto', 'kernel': 'linear'}\n",
      "0.500 (+/-0.000) for {'C': 10.0, 'degree': 5, 'gamma': 'auto', 'kernel': 'poly'}\n",
      "0.971 (+/-0.011) for {'C': 10.0, 'degree': 5, 'gamma': 'auto', 'kernel': 'rbf'}\n",
      "0.971 (+/-0.011) for {'C': 10.0, 'degree': 5, 'gamma': 'auto', 'kernel': 'sigmoid'}\n",
      "\n"
     ]
    }
   ],
   "source": [
    "lemmed_svm = model.build_model(train.tweet_lemmed, train.author, \"lemmed\", \"svm\")"
   ]
  },
  {
   "cell_type": "markdown",
   "metadata": {},
   "source": [
    "Again, the SVM model was the best."
   ]
  },
  {
   "cell_type": "markdown",
   "metadata": {},
   "source": [
    "### Conclusion"
   ]
  },
  {
   "cell_type": "markdown",
   "metadata": {},
   "source": [
    "The SVM model on the lemmed tweet data yielded the best results."
   ]
  }
 ],
 "metadata": {
  "kernelspec": {
   "display_name": "Python 3",
   "language": "python",
   "name": "python3"
  },
  "language_info": {
   "codemirror_mode": {
    "name": "ipython",
    "version": 3
   },
   "file_extension": ".py",
   "mimetype": "text/x-python",
   "name": "python",
   "nbconvert_exporter": "python",
   "pygments_lexer": "ipython3",
   "version": "3.7.4"
  }
 },
 "nbformat": 4,
 "nbformat_minor": 2
}
